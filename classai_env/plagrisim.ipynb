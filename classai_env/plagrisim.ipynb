{
 "cells": [
  {
   "cell_type": "code",
   "execution_count": null,
   "metadata": {},
   "outputs": [],
   "source": [
    "from difflib import SequenceMatcher\n",
    "\n",
    "with open(\"./plagirism/test1.txt\")as one_file,open(\"./plagirism/test2.txt\") as two_file:\n",
    "\n",
    "    data_file1=one_file.read()\n",
    "    data_file2=two_file.read()\n",
    "\n",
    "    matches=SequenceMatcher (None,data_file1,data_file2).ratio()\n",
    "    print(f\"the palagarized content is {matches*100:.2f} %\")"
   ]
  }
 ],
 "metadata": {
  "kernelspec": {
   "display_name": "classai_env",
   "language": "python",
   "name": "python3"
  },
  "language_info": {
   "name": "python",
   "version": "3.12.5"
  }
 },
 "nbformat": 4,
 "nbformat_minor": 2
}

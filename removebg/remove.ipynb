{
 "cells": [
  {
   "cell_type": "code",
   "execution_count": null,
   "metadata": {},
   "outputs": [],
   "source": [
    "from rembg import remove \n",
    "import easygui\n",
    "from PIL import Image \n",
    "\n",
    "inputfile=easygui.fileopenbox(\"select a file ........\")\n",
    "outputfile=easygui.filesavebox(\"savefile\")\n",
    "\n",
    "input=Image.open(inputfile)\n",
    "output=remove(input)\n",
    "output.save(outputfile)"
   ]
  }
 ],
 "metadata": {
  "kernelspec": {
   "display_name": "removebg",
   "language": "python",
   "name": "python3"
  },
  "language_info": {
   "name": "python",
   "version": "3.12.5"
  }
 },
 "nbformat": 4,
 "nbformat_minor": 2
}
